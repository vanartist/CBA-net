{
 "cells": [
  {
   "cell_type": "code",
   "execution_count": 34,
   "id": "initial_id",
   "metadata": {
    "collapsed": true,
    "ExecuteTime": {
     "end_time": "2025-05-25T02:42:53.284046Z",
     "start_time": "2025-05-25T02:42:53.256224300Z"
    }
   },
   "outputs": [],
   "source": [
    "import pandas as pd\n",
    "import numpy as np\n",
    "import os\n",
    "import shutil\n",
    "from collections import Counter,defaultdict\n",
    "import ast\n",
    "import random\n",
    "from sklearn.model_selection import train_test_split\n",
    "import torch\n",
    "from torch.utils.data import Dataset,DataLoader\n",
    "import torch.nn as nn\n",
    "import torch.nn.functional as F\n",
    "from sklearn.metrics import classification_report, confusion_matrix\n",
    "from sklearn.utils.class_weight import compute_class_weight\n",
    "from sklearn.metrics import roc_curve, auc\n",
    "from tqdm import tqdm\n",
    "import warnings\n",
    "from sklearn.preprocessing import label_binarize\n",
    "import matplotlib.pyplot as plt\n",
    "warnings.filterwarnings(\"ignore\", category=UserWarning) "
   ]
  },
  {
   "cell_type": "code",
   "execution_count": 35,
   "outputs": [
    {
     "name": "stdout",
     "output_type": "stream",
     "text": [
      "[INFO] Seed set to 42\n"
     ]
    }
   ],
   "source": [
    "def set_seed(seed=42):\n",
    "    os.environ['PYTHONHASHSEED'] = str(seed)\n",
    "    random.seed(seed)\n",
    "    np.random.seed(seed)\n",
    "    torch.manual_seed(seed)\n",
    "    torch.cuda.manual_seed(seed)\n",
    "    torch.cuda.manual_seed_all(seed)\n",
    "    torch.backends.cudnn.deterministic = True\n",
    "    torch.backends.cudnn.benchmark = False\n",
    "    # torch.use_deterministic_algorithms(True) \n",
    "    print(f\"[INFO] Seed set to {seed}\")\n",
    "set_seed()"
   ],
   "metadata": {
    "collapsed": false,
    "ExecuteTime": {
     "end_time": "2025-05-25T02:42:53.360056Z",
     "start_time": "2025-05-25T02:42:53.259954300Z"
    }
   },
   "id": "400d892a57bd0b93"
  },
  {
   "cell_type": "markdown",
   "source": [
    "Set the key path for the whole project."
   ],
   "metadata": {
    "collapsed": false
   },
   "id": "d7e4cb8cde1aefd3"
  },
  {
   "cell_type": "code",
   "execution_count": 36,
   "outputs": [],
   "source": [
    "csv_path = 'PTB_XL/ptbxl_database.csv'\n",
    "df = pd.read_csv(csv_path)\n",
    "selected_labels = {'AFIB', 'AFLT', '1AVB', 'CRBBB', 'CLBBB', 'NORM'}\n",
    "npy_dir = 'PTB_XL/record100'\n",
    "output_folder = 'PTB_selected_dataset'\n",
    "dataset_selected = 'PTB_selected_dataset.csv'\n",
    "train_dataset = \"PTB_train.csv\"\n",
    "test_dataset = \"PTB_test.csv\"\n",
    "best_model = \"CBA_net_model/ECG_best_model.pt\"\n",
    "root_dir = \"New_sample_to_test/validation\"\n",
    "test_dir = \"New_sample_to_test/test\"\n",
    "final_prediction_model = \"CBA_net_model/ECG_final_model.pt\"\n",
    "\n",
    "norm_sample_numbers = 1000\n",
    "other_sample_numbers = 1000"
   ],
   "metadata": {
    "collapsed": false,
    "ExecuteTime": {
     "end_time": "2025-05-25T02:42:53.426198200Z",
     "start_time": "2025-05-25T02:42:53.275060Z"
    }
   },
   "id": "bc94ba07ce53db88"
  },
  {
   "cell_type": "code",
   "execution_count": 37,
   "outputs": [
    {
     "name": "stdout",
     "output_type": "stream",
     "text": [
      "Total label distribution\n",
      "         count\n",
      "NORM      9514\n",
      "IMI       2676\n",
      "ASMI      2357\n",
      "LVH       2132\n",
      "NDT       1825\n",
      "LAFB      1623\n",
      "ISC_      1272\n",
      "IRBBB     1118\n",
      "PVC       1027\n",
      "1AVB       793\n",
      "IVCD       787\n",
      "ISCAL      659\n",
      "NST_       559\n",
      "CRBBB      541\n",
      "CLBBB      536\n",
      "ILMI       478\n",
      "LAO/LAE    426\n",
      "AMI        353\n",
      "ALMI       288\n",
      "PACE       287\n",
      "ISCIN      218\n",
      "INJAS      214\n",
      "LMI        201\n",
      "ISCIL      179\n",
      "DIG        177\n",
      "LPFB       177\n",
      "ISCAS      169\n",
      "INJAL      145\n",
      "ISCLA      140\n",
      "RVH        126\n",
      "LNGQT      116\n",
      "ANEUR      104\n",
      "RAO/RAE     99\n",
      "EL          96\n",
      "WPW         79\n",
      "ILBBB       77\n",
      "AFLT        56\n",
      "IPLMI       51\n",
      "AFIB        48\n",
      "ISCAN       44\n",
      "PAC         37\n",
      "IPMI        33\n",
      "SEHYP       29\n",
      "PSVT        24\n",
      "BIGU        24\n",
      "INJIN       18\n",
      "INJLA       17\n",
      "PMI         17\n",
      "3AVB        16\n",
      "INJIL       15\n",
      "2AVB        14\n",
      "STACH        4\n"
     ]
    }
   ],
   "source": [
    "all_label_counter = defaultdict(int)\n",
    "for scp_str in df['scp_codes']:\n",
    "    label_dict = ast.literal_eval(scp_str)\n",
    "    for label, weight in label_dict.items():\n",
    "        if weight != 0.0:\n",
    "            all_label_counter[label] += 1\n",
    "\n",
    "full_label_df = pd.DataFrame.from_dict(all_label_counter, orient='index', columns=['count'])\n",
    "full_label_df = full_label_df.sort_values(by='count', ascending=False)\n",
    "print(\"Total label distribution\")\n",
    "print(full_label_df)"
   ],
   "metadata": {
    "collapsed": false,
    "ExecuteTime": {
     "end_time": "2025-05-25T02:42:53.668115Z",
     "start_time": "2025-05-25T02:42:53.384187100Z"
    }
   },
   "id": "22e08f8d6e02ba25"
  },
  {
   "cell_type": "markdown",
   "source": [
    "Count the number of instances for each label"
   ],
   "metadata": {
    "collapsed": false
   },
   "id": "e6b805ff07234634"
  },
  {
   "cell_type": "code",
   "execution_count": 38,
   "outputs": [
    {
     "name": "stdout",
     "output_type": "stream",
     "text": [
      "        count\n",
      "OTHERS  10514\n",
      "NORM     9514\n",
      "1AVB      793\n",
      "CRBBB     541\n",
      "CLBBB     536\n",
      "AFLT       56\n",
      "AFIB       48\n"
     ]
    }
   ],
   "source": [
    "label_count = defaultdict(int)\n",
    "for scp_str in df['scp_codes']:\n",
    "    label_dict = ast.literal_eval(scp_str)  \n",
    "    added_label = False\n",
    "    for label, weight in label_dict.items():\n",
    "        if weight != 0.0:\n",
    "            if label in selected_labels:\n",
    "                label_count[label] += 1\n",
    "                added_label = True\n",
    "    if not added_label:\n",
    "        label_count['OTHERS'] += 1\n",
    "label_df = pd.DataFrame.from_dict(label_count, orient='index', columns=['count'])\n",
    "label_df = label_df.sort_values(by='count', ascending=False)\n",
    "print(label_df)"
   ],
   "metadata": {
    "collapsed": false,
    "ExecuteTime": {
     "end_time": "2025-05-25T02:42:53.960796800Z",
     "start_time": "2025-05-25T02:42:53.668115Z"
    }
   },
   "id": "9b795bc39955181d"
  },
  {
   "cell_type": "markdown",
   "source": [
    "Check whether the dataset complies with the specified sampling frequency"
   ],
   "metadata": {
    "collapsed": false
   },
   "id": "4f05376fcffe4b6e"
  },
  {
   "cell_type": "code",
   "execution_count": 39,
   "outputs": [
    {
     "name": "stdout",
     "output_type": "stream",
     "text": [
      "Total valid files: 21799\n",
      "Total invalid files: 0\n"
     ]
    }
   ],
   "source": [
    "invalid_files = []\n",
    "valid_files = []\n",
    "expected_samples = 1000\n",
    "\n",
    "for file in os.listdir(npy_dir):\n",
    "    if not file.endswith('.npy'):\n",
    "        continue\n",
    "\n",
    "    file_path = os.path.join(npy_dir, file)\n",
    "    try:\n",
    "        data = np.load(file_path)\n",
    "        if data.shape[0] != expected_samples:\n",
    "            print(f\"{file}: shape {data.shape} → samples != 1000\")\n",
    "            invalid_files.append((file, data.shape))\n",
    "        else:\n",
    "            valid_files.append(file)\n",
    "    except Exception as e:\n",
    "        print(f\"Error loading {file}: {e}\")\n",
    "        invalid_files.append((file, 'load_error'))\n",
    "\n",
    "print(f\"Total valid files: {len(valid_files)}\")\n",
    "print(f\"Total invalid files: {len(invalid_files)}\")"
   ],
   "metadata": {
    "collapsed": false,
    "ExecuteTime": {
     "end_time": "2025-05-25T02:42:58.140333400Z",
     "start_time": "2025-05-25T02:42:53.961804Z"
    }
   },
   "id": "7b87c36e662af28c"
  },
  {
   "cell_type": "markdown",
   "source": [
    "Select data by retaining all required classes, and randomly sample 1,000 instances each for the 'NORM' and 'OTHER' categories"
   ],
   "metadata": {
    "collapsed": false
   },
   "id": "922c4eb852cd7d51"
  },
  {
   "cell_type": "code",
   "execution_count": 40,
   "outputs": [
    {
     "name": "stdout",
     "output_type": "stream",
     "text": [
      "PTB_selected_dataset.csv already exists. Skipping file generation.\n"
     ]
    }
   ],
   "source": [
    "output_csv_path = dataset_selected\n",
    "if os.path.exists(output_csv_path):\n",
    "    print(f\"{output_csv_path} already exists. Skipping file generation.\")\n",
    "else:\n",
    "    os.makedirs(output_folder, exist_ok=True)\n",
    "\n",
    "    df = pd.read_csv(csv_path)\n",
    "    file_label_map = {}\n",
    "\n",
    "    for _, row in df.iterrows():\n",
    "        record_name = row['filename_lr'].replace('.hea', '')\n",
    "        label_dict = ast.literal_eval(row['scp_codes'])\n",
    "        label_assigned = 'OTHERS'\n",
    "        for label, weight in label_dict.items():\n",
    "            if weight != 0.0 and label in selected_labels:\n",
    "                label_assigned = label\n",
    "                break\n",
    "        file_label_map[record_name] = label_assigned\n",
    "\n",
    "    label_groups = defaultdict(list)\n",
    "    for fname, label in file_label_map.items():\n",
    "        label_groups[label].append(fname)\n",
    "    random.seed(42)\n",
    "    norm_sample = random.sample(label_groups['NORM'], min(norm_sample_numbers, len(label_groups['NORM'])))\n",
    "    other_sample = random.sample(label_groups['OTHERS'], min(other_sample_numbers, len(label_groups['OTHERS'])))\n",
    "\n",
    "    other_labels = set(label_groups.keys()) - {'NORM', 'OTHERS'}\n",
    "    other_label_samples = []\n",
    "    for l in other_labels:\n",
    "        other_label_samples.extend(label_groups[l])\n",
    "\n",
    "    all_selected = norm_sample + other_sample + other_label_samples\n",
    "\n",
    "    def npy_path_from_name(name):\n",
    "        base_name = f\"converted_npy_{name.replace('/', '_').replace('records100_','')}.npy\"\n",
    "        return os.path.join(npy_dir, base_name)\n",
    "\n",
    "    def is_valid_npy(path):\n",
    "        try:\n",
    "            data = np.load(path)\n",
    "            return data.shape[0] == 1000\n",
    "        except:\n",
    "            return False\n",
    "\n",
    "    copied = 0\n",
    "    copied_records = []\n",
    "\n",
    "    for name in all_selected:\n",
    "        src_path = npy_path_from_name(name)\n",
    "        if os.path.exists(src_path) and is_valid_npy(src_path):\n",
    "            dst_path = os.path.join(output_folder, os.path.basename(src_path))\n",
    "            shutil.copy(src_path, dst_path)\n",
    "            copied_records.append((os.path.basename(src_path), file_label_map[name]))\n",
    "            copied += 1\n",
    "        else:\n",
    "            print(f\"Skipped: {src_path}\")\n",
    "\n",
    "    df_out = pd.DataFrame(copied_records, columns=[\"filename\", \"label\"])\n",
    "    df_out.to_csv(output_csv_path, index=False)\n",
    "\n",
    "    print(f\"Done. Total copied: {copied}\")"
   ],
   "metadata": {
    "collapsed": false,
    "ExecuteTime": {
     "end_time": "2025-05-25T02:42:58.149018100Z",
     "start_time": "2025-05-25T02:42:58.139334800Z"
    }
   },
   "id": "1850db2f7ac62477"
  },
  {
   "cell_type": "code",
   "execution_count": 41,
   "outputs": [
    {
     "name": "stdout",
     "output_type": "stream",
     "text": [
      "label map： {'1AVB': 0, 'AFIB': 1, 'AFLT': 2, 'CLBBB': 3, 'CRBBB': 4, 'NORM': 5, 'OTHERS': 6}\n",
      "                           filename label  label_id\n",
      "0  converted_npy_03000_03459_lr.npy  NORM         5\n",
      "1  converted_npy_00000_00774_lr.npy  NORM         5\n",
      "2  converted_npy_09000_09501_lr.npy  NORM         5\n",
      "3  converted_npy_08000_08306_lr.npy  NORM         5\n",
      "4  converted_npy_07000_07570_lr.npy  NORM         5\n",
      "\n",
      "Columns: ['filename', 'label', 'label_id']\n",
      "\n",
      "dtype of label_id: int64\n",
      "\n",
      "Label to ID mapping in file:\n",
      "       label  label_id\n",
      "2645    1AVB         0\n",
      "2056    AFIB         1\n",
      "2000    AFLT         2\n",
      "3236   CLBBB         3\n",
      "2104   CRBBB         4\n",
      "0       NORM         5\n",
      "1000  OTHERS         6\n",
      "\n",
      "Null values check:\n",
      "filename    0\n",
      "label       0\n",
      "label_id    0\n",
      "dtype: int64\n"
     ]
    }
   ],
   "source": [
    "label_df = pd.read_csv(dataset_selected)\n",
    "unique_labels = sorted(label_df['label'].unique())\n",
    "label_map = {label: idx for idx, label in enumerate(unique_labels)}\n",
    "print(\"label map：\", label_map)\n",
    "label_df['label_id'] = label_df['label'].map(label_map)\n",
    "label_df.to_csv(dataset_selected, index=False)\n",
    "df = pd.read_csv(dataset_selected)\n",
    "print(df.head())\n",
    "print(\"\\nColumns:\", df.columns.tolist())\n",
    "print(\"\\ndtype of label_id:\", df['label_id'].dtype)\n",
    "print(\"\\nLabel to ID mapping in file:\")\n",
    "print(df[['label', 'label_id']].drop_duplicates().sort_values('label_id'))\n",
    "print(\"\\nNull values check:\")\n",
    "print(df.isnull().sum())"
   ],
   "metadata": {
    "collapsed": false,
    "ExecuteTime": {
     "end_time": "2025-05-25T02:42:58.222945300Z",
     "start_time": "2025-05-25T02:42:58.150017600Z"
    }
   },
   "id": "8f628a070ba37df"
  },
  {
   "cell_type": "markdown",
   "source": [
    "The dataset was split in a stratified manner to ensure that all classes are represented in both the training and test sets, thereby avoiding distribution bias due to purely random sampling."
   ],
   "metadata": {
    "collapsed": false
   },
   "id": "5a0bb5a3616ee0ac"
  },
  {
   "cell_type": "code",
   "execution_count": 42,
   "outputs": [],
   "source": [
    "label_df = pd.read_csv(dataset_selected)\n",
    "train_list = []\n",
    "test_list = []\n",
    "\n",
    "for label, group in label_df.groupby('label_id'):\n",
    "    train_part, test_part = train_test_split(\n",
    "        group,\n",
    "        test_size=0.2,\n",
    "        random_state=42,\n",
    "        shuffle=True\n",
    "    )\n",
    "    train_list.append(train_part)\n",
    "    test_list.append(test_part)\n",
    "\n",
    "train_df = pd.concat(train_list).reset_index(drop=True)\n",
    "test_df = pd.concat(test_list).reset_index(drop=True)\n"
   ],
   "metadata": {
    "collapsed": false,
    "ExecuteTime": {
     "end_time": "2025-05-25T02:42:58.222945300Z",
     "start_time": "2025-05-25T02:42:58.185097600Z"
    }
   },
   "id": "83a7e0e869b80814"
  },
  {
   "cell_type": "code",
   "execution_count": 43,
   "outputs": [
    {
     "name": "stdout",
     "output_type": "stream",
     "text": [
      "Train distribution:\n",
      " label_id\n",
      "0    472\n",
      "1     38\n",
      "2     44\n",
      "3    428\n",
      "4    432\n",
      "5    800\n",
      "6    800\n",
      "Name: count, dtype: int64\n",
      "Test distribution:\n",
      " label_id\n",
      "0    119\n",
      "1     10\n",
      "2     12\n",
      "3    107\n",
      "4    109\n",
      "5    200\n",
      "6    200\n",
      "Name: count, dtype: int64\n"
     ]
    }
   ],
   "source": [
    "train_df.to_csv(train_dataset, index=False)\n",
    "test_df.to_csv(test_dataset, index=False)\n",
    "print(\"Train distribution:\\n\", train_df['label_id'].value_counts().sort_index())\n",
    "print(\"Test distribution:\\n\", test_df['label_id'].value_counts().sort_index())"
   ],
   "metadata": {
    "collapsed": false,
    "ExecuteTime": {
     "end_time": "2025-05-25T02:42:58.222945300Z",
     "start_time": "2025-05-25T02:42:58.200005900Z"
    }
   },
   "id": "fd991d3b5d335777"
  },
  {
   "cell_type": "markdown",
   "source": [
    "Dataset loader"
   ],
   "metadata": {
    "collapsed": false
   },
   "id": "b93333f3612b88cb"
  },
  {
   "cell_type": "code",
   "execution_count": 44,
   "outputs": [],
   "source": [
    "class ECGDataset(Dataset):\n",
    "    def __init__(self, csv_file, data_dir):\n",
    "        self.df = pd.read_csv(csv_file)\n",
    "        self.data_dir = data_dir\n",
    "        self.label_map = {label: idx for idx, label in enumerate(sorted(self.df['label'].unique()))}\n",
    "    def __len__(self):\n",
    "        return len(self.df)\n",
    "    def __getitem__(self, idx):\n",
    "        row = self.df.iloc[idx]\n",
    "        file_path = os.path.join(self.data_dir, row['filename'])\n",
    "        ecg = np.load(file_path)  # shape: (1000, 12)\n",
    "        ecg = torch.tensor(ecg, dtype=torch.float32).transpose(0, 1)  # shape: (12, 1000)\n",
    "        label = torch.tensor(row['label_id'], dtype=torch.long)\n",
    "        return ecg, label"
   ],
   "metadata": {
    "collapsed": false,
    "ExecuteTime": {
     "end_time": "2025-05-25T02:42:58.223953300Z",
     "start_time": "2025-05-25T02:42:58.212380500Z"
    }
   },
   "id": "15630c9e385f2cff"
  },
  {
   "cell_type": "code",
   "execution_count": 45,
   "outputs": [],
   "source": [
    "train_dataset = ECGDataset(train_dataset, output_folder)\n",
    "train_loader = DataLoader(train_dataset, batch_size=32, shuffle=True)\n",
    "test_dataset = ECGDataset(test_dataset, output_folder)\n",
    "test_loader = DataLoader(test_dataset, batch_size=32, shuffle=False)"
   ],
   "metadata": {
    "collapsed": false,
    "ExecuteTime": {
     "end_time": "2025-05-25T02:42:58.243616100Z",
     "start_time": "2025-05-25T02:42:58.215946600Z"
    }
   },
   "id": "3ef0323a64f58836"
  },
  {
   "cell_type": "code",
   "execution_count": 46,
   "outputs": [
    {
     "name": "stdout",
     "output_type": "stream",
     "text": [
      "ECG shape: torch.Size([32, 12, 1000])\n",
      "Label shape: torch.Size([32])\n"
     ]
    }
   ],
   "source": [
    "for ecg, label in train_loader:\n",
    "    print(\"ECG shape:\", ecg.shape)  # (B, 12, 1000)\n",
    "    print(\"Label shape:\", label.shape)  # (B,)\n",
    "    break"
   ],
   "metadata": {
    "collapsed": false,
    "ExecuteTime": {
     "end_time": "2025-05-25T02:42:58.301642400Z",
     "start_time": "2025-05-25T02:42:58.245616500Z"
    }
   },
   "id": "2bc2c13589f4b325"
  },
  {
   "cell_type": "markdown",
   "source": [
    "The mian model of CBA-net"
   ],
   "metadata": {
    "collapsed": false
   },
   "id": "b1228f9765f0eb0f"
  },
  {
   "cell_type": "code",
   "execution_count": 47,
   "outputs": [],
   "source": [
    "class MultiHeadSelfAttention(nn.Module):\n",
    "    def __init__(self, input_dim, num_heads=4):\n",
    "        super().__init__()\n",
    "        self.num_heads = num_heads\n",
    "        self.head_dim = input_dim // num_heads\n",
    "        assert input_dim % num_heads == 0, \"input_dim must be divisible by num_heads\"\n",
    "        self.q_proj = nn.Linear(input_dim, input_dim)\n",
    "        self.k_proj = nn.Linear(input_dim, input_dim)\n",
    "        self.v_proj = nn.Linear(input_dim, input_dim)\n",
    "        self.out_proj = nn.Linear(input_dim, input_dim)\n",
    "        self.dropout = nn.Dropout(0.1)\n",
    "\n",
    "    def forward(self, x):\n",
    "        B, T, D = x.shape  # (B, T, D)\n",
    "        H = self.num_heads\n",
    "        d = self.head_dim\n",
    "        Q = self.q_proj(x).view(B, T, H, d).transpose(1, 2)  # (B, H, T, d)\n",
    "        K = self.k_proj(x).view(B, T, H, d).transpose(1, 2)\n",
    "        V = self.v_proj(x).view(B, T, H, d).transpose(1, 2)\n",
    "        scores = torch.matmul(Q, K.transpose(-2, -1)) / (d ** 0.5)  # (B, H, T, T)\n",
    "        attn_weights = torch.softmax(scores, dim=-1)\n",
    "        attn_weights = self.dropout(attn_weights)\n",
    "\n",
    "        context = torch.matmul(attn_weights, V)  # (B, H, T, d)\n",
    "        context = context.transpose(1, 2).contiguous().view(B, T, D)  # (B, T, D)\n",
    "\n",
    "        output = self.out_proj(context.mean(dim=1))  \n",
    "        return output  # (B, D)"
   ],
   "metadata": {
    "collapsed": false,
    "ExecuteTime": {
     "end_time": "2025-05-25T02:42:58.301642400Z",
     "start_time": "2025-05-25T02:42:58.263880300Z"
    }
   },
   "id": "86b4c9be5fb1202f"
  },
  {
   "cell_type": "code",
   "execution_count": 48,
   "outputs": [],
   "source": [
    "class ECGCNNBiLSTM_Attn(nn.Module):\n",
    "    def __init__(self, n_classes):\n",
    "        super(ECGCNNBiLSTM_Attn, self).__init__()\n",
    "        self.conv1 = nn.Conv1d(12, 32, kernel_size=7, padding=3)\n",
    "        self.bn1 = nn.BatchNorm1d(32)\n",
    "        self.pool1 = nn.MaxPool1d(2)\n",
    "\n",
    "        self.conv2 = nn.Conv1d(32, 64, kernel_size=5, padding=2)\n",
    "        self.bn2 = nn.BatchNorm1d(64)\n",
    "        self.pool2 = nn.MaxPool1d(2)\n",
    "\n",
    "        self.lstm = nn.LSTM(input_size=64, hidden_size=128, num_layers=1,\n",
    "                            batch_first=True, bidirectional=True)\n",
    "\n",
    "        # Multi-Head Self-Attention\n",
    "        self.mh_attention = MultiHeadSelfAttention(input_dim=128 * 2, num_heads=4)\n",
    "\n",
    "        self.fc = nn.Linear(128 * 2, n_classes)\n",
    "\n",
    "    def forward(self, x):\n",
    "        x = F.relu(self.bn1(self.conv1(x)))\n",
    "        x = self.pool1(x)\n",
    "\n",
    "        x = F.relu(self.bn2(self.conv2(x)))\n",
    "        x = self.pool2(x)\n",
    "\n",
    "        x = x.transpose(1, 2)         # (B, T, C)\n",
    "        lstm_out, _ = self.lstm(x)    # (B, T, 256)\n",
    "\n",
    "        x = self.mh_attention(lstm_out)  # (B, 256)\n",
    "        x = self.fc(x)                  # (B, n_classes)\n",
    "        return x"
   ],
   "metadata": {
    "collapsed": false,
    "ExecuteTime": {
     "end_time": "2025-05-25T02:42:58.301642400Z",
     "start_time": "2025-05-25T02:42:58.271328100Z"
    }
   },
   "id": "81ca6daa8d80c8c1"
  },
  {
   "cell_type": "code",
   "execution_count": 49,
   "outputs": [],
   "source": [
    "def evaluate(model, loader, device):\n",
    "    model.eval()\n",
    "    correct = 0\n",
    "    total = 0\n",
    "    all_preds = []\n",
    "    all_labels = []\n",
    "\n",
    "    with torch.no_grad():\n",
    "        for x_batch, y_batch in loader:\n",
    "            x_batch, y_batch = x_batch.to(device), y_batch.to(device)\n",
    "            outputs = model(x_batch)\n",
    "            preds = outputs.argmax(dim=1)\n",
    "\n",
    "            all_preds.extend(preds.cpu().numpy())\n",
    "            all_labels.extend(y_batch.cpu().numpy())\n",
    "            correct += (preds == y_batch).sum().item()\n",
    "            total += y_batch.size(0)\n",
    "\n",
    "    acc = correct / total\n",
    "    print(f\"→ Eval Acc: {acc:.4f}\")\n",
    "    \n",
    "    print(\"\\nClassification Report:\")\n",
    "    print(classification_report(all_labels, all_preds, digits=4))\n",
    "\n",
    "    cm = confusion_matrix(all_labels, all_preds)\n",
    "    num_classes = cm.shape[0]\n",
    "    specificity_list = []\n",
    "\n",
    "    for i in range(num_classes):\n",
    "        TP = cm[i, i]\n",
    "        FP = cm[:, i].sum() - TP\n",
    "        FN = cm[i, :].sum() - TP\n",
    "        TN = cm.sum() - (TP + FP + FN)\n",
    "        specificity = TN / (TN + FP) if (TN + FP) > 0 else 0\n",
    "        specificity_list.append(specificity)\n",
    "\n",
    "    print(\"\\nSpecificity per class:\")\n",
    "    for i, spec in enumerate(specificity_list):\n",
    "        print(f\"Class {i}: {spec:.4f}\")\n",
    "\n",
    "    return acc"
   ],
   "metadata": {
    "collapsed": false,
    "ExecuteTime": {
     "end_time": "2025-05-25T02:42:58.301642400Z",
     "start_time": "2025-05-25T02:42:58.280698600Z"
    }
   },
   "id": "52697c194d398ba9"
  },
  {
   "cell_type": "code",
   "execution_count": 50,
   "outputs": [],
   "source": [
    "def train_model(model, train_loader, test_loader, label_df, num_epochs=10, lr=1e-3):\n",
    "    device = torch.device('cuda' if torch.cuda.is_available() else 'cpu')\n",
    "    model.to(device)\n",
    "    print(f\"Using device: {device}\")\n",
    "    optimizer = torch.optim.Adam(model.parameters(), lr=lr)\n",
    "\n",
    "    classes = np.unique(label_df['label_id'])\n",
    "    weights = compute_class_weight(class_weight='balanced', classes=classes, y=label_df['label_id'])\n",
    "    weights = torch.tensor(weights, dtype=torch.float32).to(device)\n",
    "    criterion = nn.CrossEntropyLoss(weight=weights)\n",
    "\n",
    "    best_acc = 0\n",
    "    train_losses = []\n",
    "    train_accuracies = []\n",
    "\n",
    "    for epoch in range(num_epochs):\n",
    "        model.train()\n",
    "        total_loss = 0\n",
    "        correct = 0\n",
    "        total = 0\n",
    "\n",
    "        print(f\"\\n[Epoch {epoch+1}/{num_epochs}]\")\n",
    "        loop = tqdm(train_loader, desc=\"Training\", leave=False)\n",
    "\n",
    "        for x_batch, y_batch in loop:\n",
    "            x_batch, y_batch = x_batch.to(device), y_batch.to(device)\n",
    "            optimizer.zero_grad()\n",
    "            outputs = model(x_batch)\n",
    "            loss = criterion(outputs, y_batch)\n",
    "            loss.backward()\n",
    "            optimizer.step()\n",
    "\n",
    "            total_loss += loss.item()\n",
    "            preds = outputs.argmax(dim=1)\n",
    "            correct += (preds == y_batch).sum().item()\n",
    "            total += y_batch.size(0)\n",
    "\n",
    "            loop.set_postfix(loss=loss.item(), acc=correct / total)\n",
    "\n",
    "        train_acc = correct / total\n",
    "        print(f\"→ Train Loss: {total_loss:.4f} | Train Acc: {train_acc:.4f}\")\n",
    "\n",
    "        train_losses.append(total_loss)\n",
    "        train_accuracies.append(train_acc)\n",
    "\n",
    "        test_acc = evaluate(model, test_loader, device)\n",
    "\n",
    "        if test_acc > best_acc:\n",
    "            best_acc = test_acc\n",
    "            torch.save(model.state_dict(), best_model)\n",
    "            print(f\"Best model updated (acc={best_acc:.4f})\")\n",
    "\n",
    "    return train_losses, train_accuracies"
   ],
   "metadata": {
    "collapsed": false,
    "ExecuteTime": {
     "end_time": "2025-05-25T02:42:58.303649300Z",
     "start_time": "2025-05-25T02:42:58.289005Z"
    }
   },
   "id": "71d8c100eea7640a"
  },
  {
   "cell_type": "code",
   "execution_count": 51,
   "outputs": [],
   "source": [
    "def plot_metrics(train_losses, train_accuracies):\n",
    "    epochs = range(1, len(train_losses) + 1)\n",
    "\n",
    "    plt.figure(figsize=(10, 4))\n",
    "\n",
    "    plt.subplot(1, 2, 1)\n",
    "    plt.plot(epochs, train_losses, marker='o')\n",
    "    plt.title('Training Loss per Epoch')\n",
    "    plt.xlabel('Epoch')\n",
    "    plt.ylabel('Loss')\n",
    "    plt.grid(True)\n",
    "\n",
    "    plt.subplot(1, 2, 2)\n",
    "    plt.plot(epochs, train_accuracies, marker='s')\n",
    "    plt.title('Training Accuracy per Epoch')\n",
    "    plt.xlabel('Epoch')\n",
    "    plt.ylabel('Accuracy')\n",
    "    plt.grid(True)\n",
    "\n",
    "    plt.tight_layout()\n",
    "    plt.show()"
   ],
   "metadata": {
    "collapsed": false,
    "ExecuteTime": {
     "end_time": "2025-05-25T02:42:58.306655Z",
     "start_time": "2025-05-25T02:42:58.295638300Z"
    }
   },
   "id": "5ae26ee66b5fdd65"
  },
  {
   "cell_type": "markdown",
   "source": [],
   "metadata": {
    "collapsed": false
   },
   "id": "802fdb67823de57c"
  },
  {
   "cell_type": "code",
   "execution_count": 52,
   "outputs": [
    {
     "name": "stdout",
     "output_type": "stream",
     "text": [
      "7\n"
     ]
    }
   ],
   "source": [
    "n_classes = len(train_df['label_id'].unique())\n",
    "print(n_classes)"
   ],
   "metadata": {
    "collapsed": false,
    "ExecuteTime": {
     "end_time": "2025-05-25T02:42:58.317092200Z",
     "start_time": "2025-05-25T02:42:58.303649300Z"
    }
   },
   "id": "5d3d13262ff31248"
  },
  {
   "cell_type": "code",
   "execution_count": 53,
   "outputs": [
    {
     "name": "stdout",
     "output_type": "stream",
     "text": [
      "Using device: cuda\n",
      "\n",
      "[Epoch 1/25]\n"
     ]
    },
    {
     "name": "stderr",
     "output_type": "stream",
     "text": [
      "                                                                                \r"
     ]
    },
    {
     "name": "stdout",
     "output_type": "stream",
     "text": [
      "→ Train Loss: 158.7977 | Train Acc: 0.3517\n",
      "→ Eval Acc: 0.4954\n",
      "\n",
      "Classification Report:\n",
      "              precision    recall  f1-score   support\n",
      "\n",
      "           0     0.4545    0.0420    0.0769       119\n",
      "           1     0.0000    0.0000    0.0000        10\n",
      "           2     0.1250    0.5833    0.2059        12\n",
      "           3     0.6753    0.9720    0.7969       107\n",
      "           4     0.4839    0.9633    0.6442       109\n",
      "           5     0.4886    0.6450    0.5560       200\n",
      "           6     0.4545    0.1250    0.1961       200\n",
      "\n",
      "    accuracy                         0.4954       757\n",
      "   macro avg     0.3831    0.4758    0.3537       757\n",
      "weighted avg     0.4878    0.4954    0.4195       757\n",
      "\n",
      "\n",
      "Specificity per class:\n",
      "Class 0: 0.9906\n",
      "Class 1: 1.0000\n",
      "Class 2: 0.9342\n",
      "Class 3: 0.9231\n",
      "Class 4: 0.8272\n",
      "Class 5: 0.7576\n",
      "Class 6: 0.9461\n",
      "Best model updated (acc=0.4954)\n",
      "\n",
      "[Epoch 2/25]\n"
     ]
    },
    {
     "name": "stderr",
     "output_type": "stream",
     "text": [
      "                                                                                \r"
     ]
    },
    {
     "name": "stdout",
     "output_type": "stream",
     "text": [
      "→ Train Loss: 137.6922 | Train Acc: 0.4390\n",
      "→ Eval Acc: 0.5799\n",
      "\n",
      "Classification Report:\n",
      "              precision    recall  f1-score   support\n",
      "\n",
      "           0     0.0000    0.0000    0.0000       119\n",
      "           1     0.0000    0.0000    0.0000        10\n",
      "           2     0.3438    0.9167    0.5000        12\n",
      "           3     0.6688    0.9626    0.7893       107\n",
      "           4     0.9623    0.9358    0.9488       109\n",
      "           5     0.4680    0.9150    0.6193       200\n",
      "           6     0.5405    0.2000    0.2920       200\n",
      "\n",
      "    accuracy                         0.5799       757\n",
      "   macro avg     0.4262    0.5614    0.4499       757\n",
      "weighted avg     0.5050    0.5799    0.4969       757\n",
      "\n",
      "\n",
      "Specificity per class:\n",
      "Class 0: 1.0000\n",
      "Class 1: 1.0000\n",
      "Class 2: 0.9718\n",
      "Class 3: 0.9215\n",
      "Class 4: 0.9938\n",
      "Class 5: 0.6266\n",
      "Class 6: 0.9390\n",
      "Best model updated (acc=0.5799)\n",
      "\n",
      "[Epoch 3/25]\n"
     ]
    },
    {
     "name": "stderr",
     "output_type": "stream",
     "text": [
      "                                                                                \r"
     ]
    },
    {
     "name": "stdout",
     "output_type": "stream",
     "text": [
      "→ Train Loss: 113.9309 | Train Acc: 0.4967\n",
      "→ Eval Acc: 0.5033\n",
      "\n",
      "Classification Report:\n",
      "              precision    recall  f1-score   support\n",
      "\n",
      "           0     0.0000    0.0000    0.0000       119\n",
      "           1     0.0488    0.2000    0.0784        10\n",
      "           2     0.5294    0.7500    0.6207        12\n",
      "           3     0.7407    0.9346    0.8264       107\n",
      "           4     0.8710    0.9908    0.9270       109\n",
      "           5     0.0000    0.0000    0.0000       200\n",
      "           6     0.3690    0.8100    0.5070       200\n",
      "\n",
      "    accuracy                         0.5033       757\n",
      "   macro avg     0.3656    0.5265    0.4228       757\n",
      "weighted avg     0.3366    0.5033    0.3951       757\n",
      "\n",
      "\n",
      "Specificity per class:\n",
      "Class 0: 0.9984\n",
      "Class 1: 0.9478\n",
      "Class 2: 0.9893\n",
      "Class 3: 0.9462\n",
      "Class 4: 0.9753\n",
      "Class 5: 1.0000\n",
      "Class 6: 0.5027\n",
      "\n",
      "[Epoch 4/25]\n"
     ]
    },
    {
     "name": "stderr",
     "output_type": "stream",
     "text": [
      "                                                                                \r"
     ]
    },
    {
     "name": "stdout",
     "output_type": "stream",
     "text": [
      "→ Train Loss: 109.8140 | Train Acc: 0.5007\n",
      "→ Eval Acc: 0.5429\n",
      "\n",
      "Classification Report:\n",
      "              precision    recall  f1-score   support\n",
      "\n",
      "           0     0.4000    0.0336    0.0620       119\n",
      "           1     0.0000    0.0000    0.0000        10\n",
      "           2     0.5000    1.0000    0.6667        12\n",
      "           3     0.7153    0.9626    0.8207       107\n",
      "           4     0.9352    0.9266    0.9309       109\n",
      "           5     0.6552    0.1900    0.2946       200\n",
      "           6     0.3864    0.7650    0.5134       200\n",
      "\n",
      "    accuracy                         0.5429       757\n",
      "   macro avg     0.5131    0.5540    0.4698       757\n",
      "weighted avg     0.5817    0.5429    0.4838       757\n",
      "\n",
      "\n",
      "Specificity per class:\n",
      "Class 0: 0.9906\n",
      "Class 1: 0.9772\n",
      "Class 2: 0.9839\n",
      "Class 3: 0.9369\n",
      "Class 4: 0.9892\n",
      "Class 5: 0.9641\n",
      "Class 6: 0.5637\n",
      "\n",
      "[Epoch 5/25]\n"
     ]
    },
    {
     "name": "stderr",
     "output_type": "stream",
     "text": [
      "                                                                                \r"
     ]
    },
    {
     "name": "stdout",
     "output_type": "stream",
     "text": [
      "→ Train Loss: 93.0419 | Train Acc: 0.5601\n",
      "→ Eval Acc: 0.6407\n",
      "\n",
      "Classification Report:\n",
      "              precision    recall  f1-score   support\n",
      "\n",
      "           0     0.0000    0.0000    0.0000       119\n",
      "           1     0.0870    0.2000    0.1212        10\n",
      "           2     0.3636    1.0000    0.5333        12\n",
      "           3     0.8095    0.9533    0.8755       107\n",
      "           4     0.9369    0.9541    0.9455       109\n",
      "           5     0.6978    0.6350    0.6649       200\n",
      "           6     0.4964    0.6900    0.5774       200\n",
      "\n",
      "    accuracy                         0.6407       757\n",
      "   macro avg     0.4845    0.6332    0.5311       757\n",
      "weighted avg     0.5718    0.6407    0.5982       757\n",
      "\n",
      "\n",
      "Specificity per class:\n",
      "Class 0: 0.9937\n",
      "Class 1: 0.9719\n",
      "Class 2: 0.9718\n",
      "Class 3: 0.9631\n",
      "Class 4: 0.9892\n",
      "Class 5: 0.9013\n",
      "Class 6: 0.7487\n",
      "Best model updated (acc=0.6407)\n",
      "\n",
      "[Epoch 6/25]\n"
     ]
    },
    {
     "name": "stderr",
     "output_type": "stream",
     "text": [
      "                                                                                \r"
     ]
    },
    {
     "name": "stdout",
     "output_type": "stream",
     "text": [
      "→ Train Loss: 92.0436 | Train Acc: 0.5790\n",
      "→ Eval Acc: 0.5799\n",
      "\n",
      "Classification Report:\n",
      "              precision    recall  f1-score   support\n",
      "\n",
      "           0     0.2959    0.4874    0.3683       119\n",
      "           1     0.1000    0.6000    0.1714        10\n",
      "           2     0.4444    1.0000    0.6154        12\n",
      "           3     0.9216    0.8785    0.8995       107\n",
      "           4     0.9145    0.9817    0.9469       109\n",
      "           5     0.6389    0.8050    0.7124       200\n",
      "           6     0.3333    0.0050    0.0099       200\n",
      "\n",
      "    accuracy                         0.5799       757\n",
      "   macro avg     0.5212    0.6797    0.5320       757\n",
      "weighted avg     0.5737    0.5799    0.5242       757\n",
      "\n",
      "\n",
      "Specificity per class:\n",
      "Class 0: 0.7837\n",
      "Class 1: 0.9277\n",
      "Class 2: 0.9799\n",
      "Class 3: 0.9877\n",
      "Class 4: 0.9846\n",
      "Class 5: 0.8366\n",
      "Class 6: 0.9964\n",
      "\n",
      "[Epoch 7/25]\n"
     ]
    },
    {
     "name": "stderr",
     "output_type": "stream",
     "text": [
      "                                                                                \r"
     ]
    },
    {
     "name": "stdout",
     "output_type": "stream",
     "text": [
      "→ Train Loss: 85.1875 | Train Acc: 0.5740\n",
      "→ Eval Acc: 0.6750\n",
      "\n",
      "Classification Report:\n",
      "              precision    recall  f1-score   support\n",
      "\n",
      "           0     0.2857    0.0168    0.0317       119\n",
      "           1     0.2857    0.2000    0.2353        10\n",
      "           2     0.6923    0.7500    0.7200        12\n",
      "           3     0.8455    0.9720    0.9043       107\n",
      "           4     0.9364    0.9450    0.9406       109\n",
      "           5     0.5912    0.9400    0.7259       200\n",
      "           6     0.5754    0.5150    0.5435       200\n",
      "\n",
      "    accuracy                         0.6750       757\n",
      "   macro avg     0.6017    0.6198    0.5859       757\n",
      "weighted avg     0.6222    0.6750    0.6182       757\n",
      "\n",
      "\n",
      "Specificity per class:\n",
      "Class 0: 0.9922\n",
      "Class 1: 0.9933\n",
      "Class 2: 0.9946\n",
      "Class 3: 0.9708\n",
      "Class 4: 0.9892\n",
      "Class 5: 0.7666\n",
      "Class 6: 0.8636\n",
      "Best model updated (acc=0.6750)\n",
      "\n",
      "[Epoch 8/25]\n"
     ]
    },
    {
     "name": "stderr",
     "output_type": "stream",
     "text": [
      "                                                                                \r"
     ]
    },
    {
     "name": "stdout",
     "output_type": "stream",
     "text": [
      "→ Train Loss: 86.6873 | Train Acc: 0.5766\n",
      "→ Eval Acc: 0.6024\n",
      "\n",
      "Classification Report:\n",
      "              precision    recall  f1-score   support\n",
      "\n",
      "           0     0.4037    0.3697    0.3860       119\n",
      "           1     0.0000    0.0000    0.0000        10\n",
      "           2     0.5238    0.9167    0.6667        12\n",
      "           3     0.9009    0.9346    0.9174       107\n",
      "           4     0.9224    0.9817    0.9511       109\n",
      "           5     0.4862    0.9700    0.6477       200\n",
      "           6     0.0000    0.0000    0.0000       200\n",
      "\n",
      "    accuracy                         0.6024       757\n",
      "   macro avg     0.4624    0.5961    0.5098       757\n",
      "weighted avg     0.4604    0.6024    0.5090       757\n",
      "\n",
      "\n",
      "Specificity per class:\n",
      "Class 0: 0.8981\n",
      "Class 1: 0.9987\n",
      "Class 2: 0.9866\n",
      "Class 3: 0.9831\n",
      "Class 4: 0.9861\n",
      "Class 5: 0.6320\n",
      "Class 6: 1.0000\n",
      "\n",
      "[Epoch 9/25]\n"
     ]
    },
    {
     "name": "stderr",
     "output_type": "stream",
     "text": [
      "                                                                                \r"
     ]
    },
    {
     "name": "stdout",
     "output_type": "stream",
     "text": [
      "→ Train Loss: 82.9603 | Train Acc: 0.5906\n",
      "→ Eval Acc: 0.6579\n",
      "\n",
      "Classification Report:\n",
      "              precision    recall  f1-score   support\n",
      "\n",
      "           0     0.3067    0.1933    0.2371       119\n",
      "           1     0.0000    0.0000    0.0000        10\n",
      "           2     0.6875    0.9167    0.7857        12\n",
      "           3     0.8772    0.9346    0.9050       107\n",
      "           4     0.9266    0.9266    0.9266       109\n",
      "           5     0.6523    0.8350    0.7325       200\n",
      "           6     0.5161    0.4800    0.4974       200\n",
      "\n",
      "    accuracy                         0.6579       757\n",
      "   macro avg     0.5666    0.6123    0.5835       757\n",
      "weighted avg     0.6252    0.6579    0.6360       757\n",
      "\n",
      "\n",
      "Specificity per class:\n",
      "Class 0: 0.9185\n",
      "Class 1: 0.9987\n",
      "Class 2: 0.9933\n",
      "Class 3: 0.9785\n",
      "Class 4: 0.9877\n",
      "Class 5: 0.8402\n",
      "Class 6: 0.8384\n",
      "\n",
      "[Epoch 10/25]\n"
     ]
    },
    {
     "name": "stderr",
     "output_type": "stream",
     "text": [
      "                                                                                \r"
     ]
    },
    {
     "name": "stdout",
     "output_type": "stream",
     "text": [
      "→ Train Loss: 75.4605 | Train Acc: 0.6082\n",
      "→ Eval Acc: 0.6645\n",
      "\n",
      "Classification Report:\n",
      "              precision    recall  f1-score   support\n",
      "\n",
      "           0     0.4684    0.3109    0.3737       119\n",
      "           1     0.1818    0.4000    0.2500        10\n",
      "           2     0.5789    0.9167    0.7097        12\n",
      "           3     0.8870    0.9533    0.9189       107\n",
      "           4     0.8583    1.0000    0.9237       109\n",
      "           5     0.6217    0.8300    0.7109       200\n",
      "           6     0.5781    0.3700    0.4512       200\n",
      "\n",
      "    accuracy                         0.6645       757\n",
      "   macro avg     0.5963    0.6830    0.6197       757\n",
      "weighted avg     0.6512    0.6645    0.6432       757\n",
      "\n",
      "\n",
      "Specificity per class:\n",
      "Class 0: 0.9342\n",
      "Class 1: 0.9759\n",
      "Class 2: 0.9893\n",
      "Class 3: 0.9800\n",
      "Class 4: 0.9722\n",
      "Class 5: 0.8187\n",
      "Class 6: 0.9031\n",
      "\n",
      "[Epoch 11/25]\n"
     ]
    },
    {
     "name": "stderr",
     "output_type": "stream",
     "text": [
      "                                                                                \r"
     ]
    },
    {
     "name": "stdout",
     "output_type": "stream",
     "text": [
      "→ Train Loss: 79.1228 | Train Acc: 0.6198\n",
      "→ Eval Acc: 0.7081\n",
      "\n",
      "Classification Report:\n",
      "              precision    recall  f1-score   support\n",
      "\n",
      "           0     0.4255    0.1681    0.2410       119\n",
      "           1     0.5000    0.1000    0.1667        10\n",
      "           2     0.7333    0.9167    0.8148        12\n",
      "           3     0.9510    0.9065    0.9282       107\n",
      "           4     0.9316    1.0000    0.9646       109\n",
      "           5     0.6679    0.9050    0.7686       200\n",
      "           6     0.5764    0.5850    0.5806       200\n",
      "\n",
      "    accuracy                         0.7081       757\n",
      "   macro avg     0.6837    0.6545    0.6378       757\n",
      "weighted avg     0.6824    0.7081    0.6796       757\n",
      "\n",
      "\n",
      "Specificity per class:\n",
      "Class 0: 0.9577\n",
      "Class 1: 0.9987\n",
      "Class 2: 0.9946\n",
      "Class 3: 0.9923\n",
      "Class 4: 0.9877\n",
      "Class 5: 0.8384\n",
      "Class 6: 0.8456\n",
      "Best model updated (acc=0.7081)\n",
      "\n",
      "[Epoch 12/25]\n"
     ]
    },
    {
     "name": "stderr",
     "output_type": "stream",
     "text": [
      "                                                                                \r"
     ]
    },
    {
     "name": "stdout",
     "output_type": "stream",
     "text": [
      "→ Train Loss: 69.2701 | Train Acc: 0.6466\n",
      "→ Eval Acc: 0.7239\n",
      "\n",
      "Classification Report:\n",
      "              precision    recall  f1-score   support\n",
      "\n",
      "           0     0.4561    0.2185    0.2955       119\n",
      "           1     0.6667    0.6000    0.6316        10\n",
      "           2     0.6875    0.9167    0.7857        12\n",
      "           3     0.9510    0.9065    0.9282       107\n",
      "           4     0.9375    0.9633    0.9502       109\n",
      "           5     0.7895    0.8250    0.8068       200\n",
      "           6     0.5476    0.6900    0.6106       200\n",
      "\n",
      "    accuracy                         0.7239       757\n",
      "   macro avg     0.7194    0.7314    0.7155       757\n",
      "weighted avg     0.7141    0.7239    0.7098       757\n",
      "\n",
      "\n",
      "Specificity per class:\n",
      "Class 0: 0.9514\n",
      "Class 1: 0.9960\n",
      "Class 2: 0.9933\n",
      "Class 3: 0.9923\n",
      "Class 4: 0.9892\n",
      "Class 5: 0.9210\n",
      "Class 6: 0.7953\n",
      "Best model updated (acc=0.7239)\n",
      "\n",
      "[Epoch 13/25]\n"
     ]
    },
    {
     "name": "stderr",
     "output_type": "stream",
     "text": [
      "                                                                                \r"
     ]
    },
    {
     "name": "stdout",
     "output_type": "stream",
     "text": [
      "→ Train Loss: 61.2610 | Train Acc: 0.7173\n",
      "→ Eval Acc: 0.7318\n",
      "\n",
      "Classification Report:\n",
      "              precision    recall  f1-score   support\n",
      "\n",
      "           0     0.5333    0.6050    0.5669       119\n",
      "           1     0.3077    0.4000    0.3478        10\n",
      "           2     0.7333    0.9167    0.8148        12\n",
      "           3     0.9703    0.9159    0.9423       107\n",
      "           4     0.9364    0.9450    0.9406       109\n",
      "           5     0.7628    0.8200    0.7904       200\n",
      "           6     0.6071    0.5100    0.5543       200\n",
      "\n",
      "    accuracy                         0.7318       757\n",
      "   macro avg     0.6930    0.7304    0.7082       757\n",
      "weighted avg     0.7334    0.7318    0.7305       757\n",
      "\n",
      "\n",
      "Specificity per class:\n",
      "Class 0: 0.9013\n",
      "Class 1: 0.9880\n",
      "Class 2: 0.9946\n",
      "Class 3: 0.9954\n",
      "Class 4: 0.9892\n",
      "Class 5: 0.9084\n",
      "Class 6: 0.8815\n",
      "Best model updated (acc=0.7318)\n",
      "\n",
      "[Epoch 14/25]\n"
     ]
    },
    {
     "name": "stderr",
     "output_type": "stream",
     "text": [
      "                                                                                \r"
     ]
    },
    {
     "name": "stdout",
     "output_type": "stream",
     "text": [
      "→ Train Loss: 56.2851 | Train Acc: 0.7233\n",
      "→ Eval Acc: 0.7609\n",
      "\n",
      "Classification Report:\n",
      "              precision    recall  f1-score   support\n",
      "\n",
      "           0     0.5617    0.7647    0.6477       119\n",
      "           1     0.6667    0.4000    0.5000        10\n",
      "           2     0.6875    0.9167    0.7857        12\n",
      "           3     0.8595    0.9720    0.9123       107\n",
      "           4     0.8992    0.9817    0.9386       109\n",
      "           5     0.7864    0.8100    0.7980       200\n",
      "           6     0.7638    0.4850    0.5933       200\n",
      "\n",
      "    accuracy                         0.7609       757\n",
      "   macro avg     0.7464    0.7614    0.7394       757\n",
      "weighted avg     0.7685    0.7609    0.7526       757\n",
      "\n",
      "\n",
      "Specificity per class:\n",
      "Class 0: 0.8887\n",
      "Class 1: 0.9973\n",
      "Class 2: 0.9933\n",
      "Class 3: 0.9738\n",
      "Class 4: 0.9815\n",
      "Class 5: 0.9210\n",
      "Class 6: 0.9461\n",
      "Best model updated (acc=0.7609)\n",
      "\n",
      "[Epoch 15/25]\n"
     ]
    },
    {
     "name": "stderr",
     "output_type": "stream",
     "text": [
      "                                                                                \r"
     ]
    },
    {
     "name": "stdout",
     "output_type": "stream",
     "text": [
      "→ Train Loss: 51.2520 | Train Acc: 0.7631\n",
      "→ Eval Acc: 0.7160\n",
      "\n",
      "Classification Report:\n",
      "              precision    recall  f1-score   support\n",
      "\n",
      "           0     0.7252    0.7983    0.7600       119\n",
      "           1     0.2045    0.9000    0.3333        10\n",
      "           2     0.7692    0.8333    0.8000        12\n",
      "           3     0.9346    0.9346    0.9346       107\n",
      "           4     0.7985    0.9817    0.8807       109\n",
      "           5     0.6452    0.9000    0.7516       200\n",
      "           6     0.8367    0.2050    0.3293       200\n",
      "\n",
      "    accuracy                         0.7160       757\n",
      "   macro avg     0.7020    0.7933    0.6842       757\n",
      "weighted avg     0.7675    0.7160    0.6810       757\n",
      "\n",
      "\n",
      "Specificity per class:\n",
      "Class 0: 0.9436\n",
      "Class 1: 0.9531\n",
      "Class 2: 0.9960\n",
      "Class 3: 0.9892\n",
      "Class 4: 0.9583\n",
      "Class 5: 0.8223\n",
      "Class 6: 0.9856\n",
      "\n",
      "[Epoch 16/25]\n"
     ]
    },
    {
     "name": "stderr",
     "output_type": "stream",
     "text": [
      "                                                                                \r"
     ]
    },
    {
     "name": "stdout",
     "output_type": "stream",
     "text": [
      "→ Train Loss: 49.9058 | Train Acc: 0.7757\n",
      "→ Eval Acc: 0.7939\n",
      "\n",
      "Classification Report:\n",
      "              precision    recall  f1-score   support\n",
      "\n",
      "           0     0.6299    0.8151    0.7106       119\n",
      "           1     0.2857    0.8000    0.4211        10\n",
      "           2     0.6471    0.9167    0.7586        12\n",
      "           3     0.9533    0.9533    0.9533       107\n",
      "           4     0.9397    1.0000    0.9689       109\n",
      "           5     0.8159    0.8200    0.8180       200\n",
      "           6     0.8209    0.5500    0.6587       200\n",
      "\n",
      "    accuracy                         0.7939       757\n",
      "   macro avg     0.7275    0.8364    0.7556       757\n",
      "weighted avg     0.8155    0.7939    0.7937       757\n",
      "\n",
      "\n",
      "Specificity per class:\n",
      "Class 0: 0.9107\n",
      "Class 1: 0.9732\n",
      "Class 2: 0.9919\n",
      "Class 3: 0.9923\n",
      "Class 4: 0.9892\n",
      "Class 5: 0.9336\n",
      "Class 6: 0.9569\n",
      "Best model updated (acc=0.7939)\n",
      "\n",
      "[Epoch 17/25]\n"
     ]
    },
    {
     "name": "stderr",
     "output_type": "stream",
     "text": [
      "                                                                                \r"
     ]
    },
    {
     "name": "stdout",
     "output_type": "stream",
     "text": [
      "→ Train Loss: 45.9247 | Train Acc: 0.7916\n",
      "→ Eval Acc: 0.7503\n",
      "\n",
      "Classification Report:\n",
      "              precision    recall  f1-score   support\n",
      "\n",
      "           0     0.7368    0.7059    0.7210       119\n",
      "           1     0.4667    0.7000    0.5600        10\n",
      "           2     0.5000    0.9167    0.6471        12\n",
      "           3     0.8281    0.9907    0.9021       107\n",
      "           4     0.9464    0.9725    0.9593       109\n",
      "           5     0.9151    0.4850    0.6340       200\n",
      "           6     0.6038    0.7850    0.6826       200\n",
      "\n",
      "    accuracy                         0.7503       757\n",
      "   macro avg     0.7139    0.7937    0.7294       757\n",
      "weighted avg     0.7846    0.7503    0.7445       757\n",
      "\n",
      "\n",
      "Specificity per class:\n",
      "Class 0: 0.9530\n",
      "Class 1: 0.9893\n",
      "Class 2: 0.9852\n",
      "Class 3: 0.9662\n",
      "Class 4: 0.9907\n",
      "Class 5: 0.9838\n",
      "Class 6: 0.8151\n",
      "\n",
      "[Epoch 18/25]\n"
     ]
    },
    {
     "name": "stderr",
     "output_type": "stream",
     "text": [
      "                                                                                \r"
     ]
    },
    {
     "name": "stdout",
     "output_type": "stream",
     "text": [
      "→ Train Loss: 45.7002 | Train Acc: 0.7873\n",
      "→ Eval Acc: 0.7345\n",
      "\n",
      "Classification Report:\n",
      "              precision    recall  f1-score   support\n",
      "\n",
      "           0     0.7209    0.5210    0.6049       119\n",
      "           1     0.1892    0.7000    0.2979        10\n",
      "           2     0.3158    1.0000    0.4800        12\n",
      "           3     1.0000    0.8692    0.9300       107\n",
      "           4     0.9298    0.9725    0.9507       109\n",
      "           5     0.7195    0.8850    0.7937       200\n",
      "           6     0.6923    0.4950    0.5773       200\n",
      "\n",
      "    accuracy                         0.7345       757\n",
      "   macro avg     0.6525    0.7775    0.6621       757\n",
      "weighted avg     0.7691    0.7345    0.7372       757\n",
      "\n",
      "\n",
      "Specificity per class:\n",
      "Class 0: 0.9624\n",
      "Class 1: 0.9598\n",
      "Class 2: 0.9651\n",
      "Class 3: 1.0000\n",
      "Class 4: 0.9877\n",
      "Class 5: 0.8761\n",
      "Class 6: 0.9210\n",
      "\n",
      "[Epoch 19/25]\n"
     ]
    },
    {
     "name": "stderr",
     "output_type": "stream",
     "text": [
      "                                                                                \r"
     ]
    },
    {
     "name": "stdout",
     "output_type": "stream",
     "text": [
      "→ Train Loss: 45.2369 | Train Acc: 0.7847\n",
      "→ Eval Acc: 0.7622\n",
      "\n",
      "Classification Report:\n",
      "              precision    recall  f1-score   support\n",
      "\n",
      "           0     0.5117    0.9160    0.6566       119\n",
      "           1     0.5000    0.8000    0.6154        10\n",
      "           2     0.6000    1.0000    0.7500        12\n",
      "           3     0.9700    0.9065    0.9372       107\n",
      "           4     0.9596    0.8716    0.9135       109\n",
      "           5     0.8086    0.8450    0.8264       200\n",
      "           6     0.8700    0.4350    0.5800       200\n",
      "\n",
      "    accuracy                         0.7622       757\n",
      "   macro avg     0.7457    0.8249    0.7542       757\n",
      "weighted avg     0.8153    0.7622    0.7588       757\n",
      "\n",
      "\n",
      "Specificity per class:\n",
      "Class 0: 0.8370\n",
      "Class 1: 0.9893\n",
      "Class 2: 0.9893\n",
      "Class 3: 0.9954\n",
      "Class 4: 0.9938\n",
      "Class 5: 0.9282\n",
      "Class 6: 0.9767\n",
      "\n",
      "[Epoch 20/25]\n"
     ]
    },
    {
     "name": "stderr",
     "output_type": "stream",
     "text": [
      "                                                                                 \r"
     ]
    },
    {
     "name": "stdout",
     "output_type": "stream",
     "text": [
      "→ Train Loss: 37.4211 | Train Acc: 0.8152\n",
      "→ Eval Acc: 0.7939\n",
      "\n",
      "Classification Report:\n",
      "              precision    recall  f1-score   support\n",
      "\n",
      "           0     0.6892    0.8571    0.7640       119\n",
      "           1     0.3636    0.8000    0.5000        10\n",
      "           2     0.6471    0.9167    0.7586        12\n",
      "           3     0.9896    0.8879    0.9360       107\n",
      "           4     0.9394    0.8532    0.8942       109\n",
      "           5     0.8182    0.8100    0.8141       200\n",
      "           6     0.7345    0.6500    0.6897       200\n",
      "\n",
      "    accuracy                         0.7939       757\n",
      "   macro avg     0.7402    0.8250    0.7652       757\n",
      "weighted avg     0.8087    0.7939    0.7971       757\n",
      "\n",
      "\n",
      "Specificity per class:\n",
      "Class 0: 0.9279\n",
      "Class 1: 0.9813\n",
      "Class 2: 0.9919\n",
      "Class 3: 0.9985\n",
      "Class 4: 0.9907\n",
      "Class 5: 0.9354\n",
      "Class 6: 0.9156\n",
      "\n",
      "[Epoch 21/25]\n"
     ]
    },
    {
     "name": "stderr",
     "output_type": "stream",
     "text": [
      "                                                                                \r"
     ]
    },
    {
     "name": "stdout",
     "output_type": "stream",
     "text": [
      "→ Train Loss: 37.0226 | Train Acc: 0.8232\n",
      "→ Eval Acc: 0.8045\n",
      "\n",
      "Classification Report:\n",
      "              precision    recall  f1-score   support\n",
      "\n",
      "           0     0.6763    0.7899    0.7287       119\n",
      "           1     0.3704    1.0000    0.5405        10\n",
      "           2     0.8333    0.8333    0.8333        12\n",
      "           3     0.9060    0.9907    0.9464       107\n",
      "           4     0.9474    0.9908    0.9686       109\n",
      "           5     0.7692    0.9000    0.8295       200\n",
      "           6     0.8860    0.5050    0.6433       200\n",
      "\n",
      "    accuracy                         0.8045       757\n",
      "   macro avg     0.7698    0.8585    0.7843       757\n",
      "weighted avg     0.8262    0.8045    0.7973       757\n",
      "\n",
      "\n",
      "Specificity per class:\n",
      "Class 0: 0.9295\n",
      "Class 1: 0.9772\n",
      "Class 2: 0.9973\n",
      "Class 3: 0.9831\n",
      "Class 4: 0.9907\n",
      "Class 5: 0.9031\n",
      "Class 6: 0.9767\n",
      "Best model updated (acc=0.8045)\n",
      "\n",
      "[Epoch 22/25]\n"
     ]
    },
    {
     "name": "stderr",
     "output_type": "stream",
     "text": [
      "                                                                                 \r"
     ]
    },
    {
     "name": "stdout",
     "output_type": "stream",
     "text": [
      "→ Train Loss: 38.2147 | Train Acc: 0.8179\n",
      "→ Eval Acc: 0.7847\n",
      "\n",
      "Classification Report:\n",
      "              precision    recall  f1-score   support\n",
      "\n",
      "           0     0.6761    0.8067    0.7356       119\n",
      "           1     0.4091    0.9000    0.5625        10\n",
      "           2     0.5238    0.9167    0.6667        12\n",
      "           3     0.9901    0.9346    0.9615       107\n",
      "           4     0.9524    0.9174    0.9346       109\n",
      "           5     0.7115    0.9000    0.7947       200\n",
      "           6     0.8673    0.4900    0.6262       200\n",
      "\n",
      "    accuracy                         0.7847       757\n",
      "   macro avg     0.7329    0.8379    0.7545       757\n",
      "weighted avg     0.8142    0.7847    0.7795       757\n",
      "\n",
      "\n",
      "Specificity per class:\n",
      "Class 0: 0.9279\n",
      "Class 1: 0.9826\n",
      "Class 2: 0.9866\n",
      "Class 3: 0.9985\n",
      "Class 4: 0.9923\n",
      "Class 5: 0.8689\n",
      "Class 6: 0.9731\n",
      "\n",
      "[Epoch 23/25]\n"
     ]
    },
    {
     "name": "stderr",
     "output_type": "stream",
     "text": [
      "                                                                                 \r"
     ]
    },
    {
     "name": "stdout",
     "output_type": "stream",
     "text": [
      "→ Train Loss: 32.6759 | Train Acc: 0.8374\n",
      "→ Eval Acc: 0.8045\n",
      "\n",
      "Classification Report:\n",
      "              precision    recall  f1-score   support\n",
      "\n",
      "           0     0.7519    0.8151    0.7823       119\n",
      "           1     0.5455    0.6000    0.5714        10\n",
      "           2     0.7857    0.9167    0.8462        12\n",
      "           3     0.9537    0.9626    0.9581       107\n",
      "           4     0.9464    0.9725    0.9593       109\n",
      "           5     0.8767    0.6400    0.7399       200\n",
      "           6     0.6667    0.7900    0.7231       200\n",
      "\n",
      "    accuracy                         0.8045       757\n",
      "   macro avg     0.7895    0.8138    0.7972       757\n",
      "weighted avg     0.8167    0.8045    0.8040       757\n",
      "\n",
      "\n",
      "Specificity per class:\n",
      "Class 0: 0.9498\n",
      "Class 1: 0.9933\n",
      "Class 2: 0.9960\n",
      "Class 3: 0.9923\n",
      "Class 4: 0.9907\n",
      "Class 5: 0.9677\n",
      "Class 6: 0.8582\n",
      "\n",
      "[Epoch 24/25]\n"
     ]
    },
    {
     "name": "stderr",
     "output_type": "stream",
     "text": [
      "                                                                                 \r"
     ]
    },
    {
     "name": "stdout",
     "output_type": "stream",
     "text": [
      "→ Train Loss: 29.2555 | Train Acc: 0.8474\n",
      "→ Eval Acc: 0.8190\n",
      "\n",
      "Classification Report:\n",
      "              precision    recall  f1-score   support\n",
      "\n",
      "           0     0.8455    0.7815    0.8122       119\n",
      "           1     0.3200    0.8000    0.4571        10\n",
      "           2     0.6111    0.9167    0.7333        12\n",
      "           3     0.9804    0.9346    0.9569       107\n",
      "           4     0.9000    0.9908    0.9432       109\n",
      "           5     0.7561    0.9300    0.8341       200\n",
      "           6     0.8382    0.5700    0.6786       200\n",
      "\n",
      "    accuracy                         0.8190       757\n",
      "   macro avg     0.7502    0.8462    0.7736       757\n",
      "weighted avg     0.8362    0.8190    0.8161       757\n",
      "\n",
      "\n",
      "Specificity per class:\n",
      "Class 0: 0.9734\n",
      "Class 1: 0.9772\n",
      "Class 2: 0.9906\n",
      "Class 3: 0.9969\n",
      "Class 4: 0.9815\n",
      "Class 5: 0.8923\n",
      "Class 6: 0.9605\n",
      "Best model updated (acc=0.8190)\n",
      "\n",
      "[Epoch 25/25]\n"
     ]
    },
    {
     "name": "stderr",
     "output_type": "stream",
     "text": [
      "                                                                                 \r"
     ]
    },
    {
     "name": "stdout",
     "output_type": "stream",
     "text": [
      "→ Train Loss: 32.1313 | Train Acc: 0.8378\n",
      "→ Eval Acc: 0.8137\n",
      "\n",
      "Classification Report:\n",
      "              precision    recall  f1-score   support\n",
      "\n",
      "           0     0.7113    0.8487    0.7739       119\n",
      "           1     0.4375    0.7000    0.5385        10\n",
      "           2     0.6875    0.9167    0.7857        12\n",
      "           3     0.9623    0.9533    0.9577       107\n",
      "           4     0.9459    0.9633    0.9545       109\n",
      "           5     0.7812    0.8750    0.8255       200\n",
      "           6     0.8099    0.5750    0.6725       200\n",
      "\n",
      "    accuracy                         0.8137       757\n",
      "   macro avg     0.7622    0.8331    0.7869       757\n",
      "weighted avg     0.8211    0.8137    0.8098       757\n",
      "\n",
      "\n",
      "Specificity per class:\n",
      "Class 0: 0.9357\n",
      "Class 1: 0.9880\n",
      "Class 2: 0.9933\n",
      "Class 3: 0.9938\n",
      "Class 4: 0.9907\n",
      "Class 5: 0.9120\n",
      "Class 6: 0.9515\n"
     ]
    }
   ],
   "source": [
    "\n",
    "model = ECGCNNBiLSTM_Attn(n_classes)\n",
    "train_losses, train_accuracies = train_model(model, train_loader, test_loader, label_df, num_epochs=25, lr=1e-2)"
   ],
   "metadata": {
    "collapsed": false,
    "ExecuteTime": {
     "end_time": "2025-05-25T02:44:42.950680400Z",
     "start_time": "2025-05-25T02:42:58.312093300Z"
    }
   },
   "id": "3dadba1eceeaa328"
  },
  {
   "cell_type": "code",
   "execution_count": 54,
   "outputs": [
    {
     "data": {
      "text/plain": "<Figure size 1000x400 with 2 Axes>",
      "image/png": "[encoded data removed]"
     },
     "metadata": {},
     "output_type": "display_data"
    }
   ],
   "source": [
    "plot_metrics(train_losses, train_accuracies)"
   ],
   "metadata": {
    "collapsed": false,
    "ExecuteTime": {
     "end_time": "2025-05-25T02:44:42.951681200Z",
     "start_time": "2025-05-25T02:44:42.922681200Z"
    }
   },
   "id": "563f4f0112ee838d"
  },
  {
   "cell_type": "markdown",
   "source": [
    "Model evaluation starts from this point. Currently, the best result from multiple training runs—final_prediction_model—is being used. If you wish to evaluate the current model instead, please set the final_prediction_model parameter to CBA_net_model/ECG_best_model.pt."
   ],
   "metadata": {
    "collapsed": false
   },
   "id": "af68561fa6e4913b"
  },
  {
   "cell_type": "code",
   "execution_count": 55,
   "outputs": [
    {
     "name": "stderr",
     "output_type": "stream",
     "text": [
      "C:\\Users\\86185\\AppData\\Local\\Temp\\ipykernel_27492\\1740257388.py:2: FutureWarning: You are using `torch.load` with `weights_only=False` (the current default value), which uses the default pickle module implicitly. It is possible to construct malicious pickle data which will execute arbitrary code during unpickling (See https://github.com/pytorch/pytorch/blob/main/SECURITY.md#untrusted-models for more details). In a future release, the default value for `weights_only` will be flipped to `True`. This limits the functions that could be executed during unpickling. Arbitrary objects will no longer be allowed to be loaded via this mode unless they are explicitly allowlisted by the user via `torch.serialization.add_safe_globals`. We recommend you start setting `weights_only=True` for any use case where you don't have full control of the loaded file. Please open an issue on GitHub for any issues related to this experimental feature.\n",
      "  model.load_state_dict(torch.load(final_prediction_model))\n"
     ]
    },
    {
     "data": {
      "text/plain": "ECGCNNBiLSTM_Attn(\n  (conv1): Conv1d(12, 32, kernel_size=(7,), stride=(1,), padding=(3,))\n  (bn1): BatchNorm1d(32, eps=1e-05, momentum=0.1, affine=True, track_running_stats=True)\n  (pool1): MaxPool1d(kernel_size=2, stride=2, padding=0, dilation=1, ceil_mode=False)\n  (conv2): Conv1d(32, 64, kernel_size=(5,), stride=(1,), padding=(2,))\n  (bn2): BatchNorm1d(64, eps=1e-05, momentum=0.1, affine=True, track_running_stats=True)\n  (pool2): MaxPool1d(kernel_size=2, stride=2, padding=0, dilation=1, ceil_mode=False)\n  (lstm): LSTM(64, 128, batch_first=True, bidirectional=True)\n  (mh_attention): MultiHeadSelfAttention(\n    (q_proj): Linear(in_features=256, out_features=256, bias=True)\n    (k_proj): Linear(in_features=256, out_features=256, bias=True)\n    (v_proj): Linear(in_features=256, out_features=256, bias=True)\n    (out_proj): Linear(in_features=256, out_features=256, bias=True)\n    (dropout): Dropout(p=0.1, inplace=False)\n  )\n  (fc): Linear(in_features=256, out_features=7, bias=True)\n)"
     },
     "execution_count": 55,
     "metadata": {},
     "output_type": "execute_result"
    }
   ],
   "source": [
    "model = ECGCNNBiLSTM_Attn(n_classes)  \n",
    "model.load_state_dict(torch.load(final_prediction_model))\n",
    "model.eval()\n",
    "device = torch.device('cuda' if torch.cuda.is_available() else 'cpu')\n",
    "model.to(device)"
   ],
   "metadata": {
    "collapsed": false,
    "ExecuteTime": {
     "end_time": "2025-05-25T02:44:42.964679500Z",
     "start_time": "2025-05-25T02:44:42.923681900Z"
    }
   },
   "id": "fdd47371e59aad4e"
  },
  {
   "cell_type": "code",
   "execution_count": 56,
   "outputs": [
    {
     "name": "stdout",
     "output_type": "stream",
     "text": [
      "→ Eval Acc: 0.8560\n",
      "\n",
      "Classification Report:\n",
      "              precision    recall  f1-score   support\n",
      "\n",
      "           0     0.8255    0.8220    0.8238       472\n",
      "           1     0.5397    0.8947    0.6733        38\n",
      "           2     0.8958    0.9773    0.9348        44\n",
      "           3     0.9852    0.9346    0.9592       428\n",
      "           4     0.9488    0.9861    0.9671       432\n",
      "           5     0.8162    0.9050    0.8583       800\n",
      "           6     0.8177    0.7063    0.7579       800\n",
      "\n",
      "    accuracy                         0.8560      3014\n",
      "   macro avg     0.8327    0.8894    0.8535      3014\n",
      "weighted avg     0.8587    0.8560    0.8550      3014\n",
      "\n",
      "\n",
      "Specificity per class:\n",
      "Class 0: 0.9677\n",
      "Class 1: 0.9903\n",
      "Class 2: 0.9983\n",
      "Class 3: 0.9977\n",
      "Class 4: 0.9911\n",
      "Class 5: 0.9264\n",
      "Class 6: 0.9431\n"
     ]
    }
   ],
   "source": [
    "train_acc = evaluate(model, train_loader, device)"
   ],
   "metadata": {
    "collapsed": false,
    "ExecuteTime": {
     "end_time": "2025-05-25T02:44:45.427404900Z",
     "start_time": "2025-05-25T02:44:42.924682500Z"
    }
   },
   "id": "66e70a1c52683717"
  },
  {
   "cell_type": "code",
   "execution_count": 57,
   "outputs": [
    {
     "name": "stdout",
     "output_type": "stream",
     "text": [
      "→ Eval Acc: 0.8428\n",
      "\n",
      "Classification Report:\n",
      "              precision    recall  f1-score   support\n",
      "\n",
      "           0     0.8197    0.8403    0.8299       119\n",
      "           1     0.5714    0.8000    0.6667        10\n",
      "           2     0.7333    0.9167    0.8148        12\n",
      "           3     0.9897    0.8972    0.9412       107\n",
      "           4     0.9459    0.9633    0.9545       109\n",
      "           5     0.8216    0.8750    0.8475       200\n",
      "           6     0.7730    0.7150    0.7429       200\n",
      "\n",
      "    accuracy                         0.8428       757\n",
      "   macro avg     0.8078    0.8582    0.8282       757\n",
      "weighted avg     0.8454    0.8428    0.8428       757\n",
      "\n",
      "\n",
      "Specificity per class:\n",
      "Class 0: 0.9655\n",
      "Class 1: 0.9920\n",
      "Class 2: 0.9946\n",
      "Class 3: 0.9985\n",
      "Class 4: 0.9907\n",
      "Class 5: 0.9318\n",
      "Class 6: 0.9246\n"
     ]
    }
   ],
   "source": [
    "test_acc = evaluate(model, test_loader, device)"
   ],
   "metadata": {
    "collapsed": false,
    "ExecuteTime": {
     "end_time": "2025-05-25T02:44:46.010259100Z",
     "start_time": "2025-05-25T02:44:45.427404900Z"
    }
   },
   "id": "cf27d15c28fcdba2"
  },
  {
   "cell_type": "code",
   "execution_count": 58,
   "outputs": [],
   "source": [
    "def plot_auc_roc(model, loader, device, class_names):\n",
    "    model.eval()\n",
    "    all_probs = []\n",
    "    all_targets = []\n",
    "    with torch.no_grad():\n",
    "        for x_batch, y_batch in loader:\n",
    "            x_batch = x_batch.to(device)\n",
    "            outputs = model(x_batch)\n",
    "            probs = torch.softmax(outputs, dim=1).cpu().numpy()\n",
    "            all_probs.append(probs)\n",
    "            all_targets.append(y_batch.cpu().numpy())\n",
    "\n",
    "    y_true = np.concatenate(all_targets, axis=0)\n",
    "    y_score = np.concatenate(all_probs, axis=0)\n",
    "    y_true_bin = label_binarize(y_true, classes=np.arange(len(class_names)))\n",
    "\n",
    "    plt.figure(figsize=(10, 8), facecolor='white')\n",
    "    ax = plt.gca()\n",
    "    ax.set_facecolor('white')\n",
    "\n",
    "    auc_scores = []\n",
    "\n",
    "    for i, class_name in enumerate(class_names):\n",
    "        fpr, tpr, _ = roc_curve(y_true_bin[:, i], y_score[:, i])\n",
    "        roc_auc = auc(fpr, tpr)\n",
    "        auc_scores.append(roc_auc)\n",
    "        plt.plot(fpr, tpr, lw=2, label=f'{class_name} (AUC = {roc_auc:.2f})')\n",
    "\n",
    "\n",
    "    plt.plot([0, 1], [0, 1], 'k--', lw=1)\n",
    "    plt.xlabel('False Positive Rate')\n",
    "    plt.ylabel('True Positive Rate')\n",
    "    plt.title('Multi-class AUC-ROC Curve')\n",
    "    plt.legend(loc='lower right')\n",
    "    plt.grid(True, linestyle='--', alpha=0.6)\n",
    "    plt.tight_layout()\n",
    "    plt.show()\n",
    "\n",
    "\n",
    "    # macro_auc = np.mean(auc_scores)\n",
    "    from sklearn.metrics import roc_auc_score\n",
    "    macro_auc_sklearn = roc_auc_score(y_true_bin, y_score, average='macro', multi_class='ovr')\n",
    "    print(f\"Macro-averaged AUC-ROC: {macro_auc_sklearn:.4f}\")"
   ],
   "metadata": {
    "collapsed": false,
    "ExecuteTime": {
     "end_time": "2025-05-25T02:44:46.017066900Z",
     "start_time": "2025-05-25T02:44:46.014263400Z"
    }
   },
   "id": "adc399d15c5154e3"
  },
  {
   "cell_type": "code",
   "execution_count": 59,
   "outputs": [
    {
     "data": {
      "text/plain": "<Figure size 1000x800 with 1 Axes>",
      "image/png": "[encoded data removed]"
     },
     "metadata": {},
     "output_type": "display_data"
    },
    {
     "name": "stdout",
     "output_type": "stream",
     "text": [
      "Macro-averaged AUC-ROC: 0.9739\n"
     ]
    }
   ],
   "source": [
    "class_names = ['1AVB', 'AFIB', 'AFLT', 'CLBBB', 'CRBBB', 'NORM', 'OTHERS']\n",
    "plot_auc_roc(model, test_loader, device, class_names)"
   ],
   "metadata": {
    "collapsed": false,
    "ExecuteTime": {
     "end_time": "2025-05-25T02:44:46.785749900Z",
     "start_time": "2025-05-25T02:44:46.018064400Z"
    }
   },
   "id": "c28cf0489e7c25dd"
  },
  {
   "cell_type": "code",
   "execution_count": 60,
   "outputs": [],
   "source": [
    "label_map = {\n",
    "    0: '1AVB',\n",
    "    1: 'AFIB',\n",
    "    2: 'AFLT',\n",
    "    3: 'CLBBB',\n",
    "    4: 'CRBBB',\n",
    "    5: 'NORM',\n",
    "    6: 'OTHERS'\n",
    "}\n",
    "\n",
    "def predict_ecg_npy(npy_path, threshold=0.7):\n",
    "    data = np.load(npy_path)\n",
    "    if data.shape == (1000, 12):\n",
    "        data = data.T\n",
    "    elif data.shape != (12, 1000):\n",
    "        raise ValueError(f\"Unexpected shape: {data.shape}\")\n",
    "\n",
    "    tensor = torch.tensor(data, dtype=torch.float32).unsqueeze(0).to(device)\n",
    "    with torch.no_grad():\n",
    "        output = model(tensor)\n",
    "        probs = F.softmax(output, dim=1)\n",
    "        confidence, pred = torch.max(probs, dim=1)\n",
    "        pred = pred.item()\n",
    "        confidence = confidence.item()\n",
    "\n",
    "    if confidence < threshold:\n",
    "        return \"UNCERTAIN\", confidence\n",
    "    else:\n",
    "        return label_map[pred], confidence\n"
   ],
   "metadata": {
    "collapsed": false,
    "ExecuteTime": {
     "end_time": "2025-05-25T02:44:46.792623700Z",
     "start_time": "2025-05-25T02:44:46.784749700Z"
    }
   },
   "id": "fb1fc557644c7a4"
  },
  {
   "cell_type": "code",
   "execution_count": 61,
   "outputs": [],
   "source": [
    "def test_model_performance(root_dir):\n",
    "    for folder in sorted(os.listdir(root_dir)):\n",
    "        npy_path = os.path.join(root_dir, folder, f\"{folder}.npy\")\n",
    "        if os.path.isfile(npy_path):\n",
    "            try:\n",
    "                pred_label, confidence = predict_ecg_npy(npy_path)\n",
    "                print(f\"{folder}: Predicted Label → {pred_label} (Confidence: {confidence:.4f})\")\n",
    "            except Exception as e:\n",
    "                print(f\"{folder}: Error → {e}\")\n",
    "        else:\n",
    "            print(f\"{folder}: File not found: {npy_path}\")"
   ],
   "metadata": {
    "collapsed": false,
    "ExecuteTime": {
     "end_time": "2025-05-25T02:44:46.803313300Z",
     "start_time": "2025-05-25T02:44:46.792623700Z"
    }
   },
   "id": "82c92d9d8c51a8ac"
  },
  {
   "cell_type": "code",
   "execution_count": 62,
   "outputs": [
    {
     "name": "stdout",
     "output_type": "stream",
     "text": [
      "validation01: Predicted Label → NORM (Confidence: 0.9767)\n",
      "validation02: Predicted Label → AFLT (Confidence: 0.9963)\n",
      "validation03: Predicted Label → 1AVB (Confidence: 0.7791)\n",
      "validation04: Predicted Label → AFIB (Confidence: 0.9808)\n",
      "validation05: Predicted Label → CRBBB (Confidence: 0.9994)\n",
      "validation06: Predicted Label → CLBBB (Confidence: 1.0000)\n"
     ]
    }
   ],
   "source": [
    "test_model_performance(root_dir)"
   ],
   "metadata": {
    "collapsed": false,
    "ExecuteTime": {
     "end_time": "2025-05-25T02:44:46.917195700Z",
     "start_time": "2025-05-25T02:44:46.804314900Z"
    }
   },
   "id": "47f331479d59db82"
  },
  {
   "cell_type": "code",
   "execution_count": 63,
   "outputs": [
    {
     "name": "stdout",
     "output_type": "stream",
     "text": [
      "test01: Predicted Label → 1AVB (Confidence: 0.8615)\n",
      "test02: Predicted Label → CLBBB (Confidence: 0.9979)\n",
      "test03: Predicted Label → NORM (Confidence: 0.9940)\n",
      "test04: Predicted Label → AFLT (Confidence: 0.9271)\n",
      "test05: Predicted Label → AFIB (Confidence: 0.8588)\n",
      "test06: Predicted Label → CRBBB (Confidence: 0.9972)\n"
     ]
    }
   ],
   "source": [
    "test_model_performance(test_dir)"
   ],
   "metadata": {
    "collapsed": false,
    "ExecuteTime": {
     "end_time": "2025-05-25T02:44:46.917195700Z",
     "start_time": "2025-05-25T02:44:46.853077300Z"
    }
   },
   "id": "2236a0738bd0f454"
  }
 ],
 "metadata": {
  "kernelspec": {
   "name": "py311-gpu",
   "language": "python",
   "display_name": "Python 3.11 (GPU)"
  },
  "language_info": {
   "codemirror_mode": {
    "name": "ipython",
    "version": 2
   },
   "file_extension": ".py",
   "mimetype": "text/x-python",
   "name": "python",
   "nbconvert_exporter": "python",
   "pygments_lexer": "ipython2",
   "version": "2.7.6"
  }
 },
 "nbformat": 4,
 "nbformat_minor": 5
}
